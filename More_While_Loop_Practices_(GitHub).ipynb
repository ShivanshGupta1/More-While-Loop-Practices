{
  "nbformat": 4,
  "nbformat_minor": 0,
  "metadata": {
    "colab": {
      "name": "More While Loop Practices (GitHub).ipynb",
      "provenance": [],
      "authorship_tag": "ABX9TyOUBPiK5OlGloLAXpzLNDGC",
      "include_colab_link": true
    },
    "kernelspec": {
      "name": "python3",
      "display_name": "Python 3"
    }
  },
  "cells": [
    {
      "cell_type": "markdown",
      "metadata": {
        "id": "view-in-github",
        "colab_type": "text"
      },
      "source": [
        "<a href=\"https://colab.research.google.com/github/ShivanshGupta1/More-While-Loop-Practices/blob/main/More_While_Loop_Practices_(GitHub).ipynb\" target=\"_parent\"><img src=\"https://colab.research.google.com/assets/colab-badge.svg\" alt=\"Open In Colab\"/></a>"
      ]
    },
    {
      "cell_type": "code",
      "metadata": {
        "id": "H9UtwXUvXdlp"
      },
      "source": [
        "b = 0\n",
        "c=0\n",
        "i = 0\n",
        "while True:\n",
        "  a = int(input('Score: '))\n",
        "  if a<0:\n",
        "    print('Average Score ', b/i)\n",
        "    print(\"Total A's scored are \", c)\n",
        "    break\n",
        "  elif a>=90:\n",
        "    c=c+1\n",
        "  i = i+1\n",
        "  b = a+b"
      ],
      "execution_count": null,
      "outputs": []
    },
    {
      "cell_type": "code",
      "metadata": {
        "id": "WM6ViPCcXifD"
      },
      "source": [
        "#Reverse Number\n",
        "n = int(input('Number - '))\n",
        "a = 0\n",
        "while (n>0):\n",
        "  b = n%10\n",
        "  a = a*10+b\n",
        "  n = n//10\n",
        "print(a)"
      ],
      "execution_count": null,
      "outputs": []
    },
    {
      "cell_type": "code",
      "metadata": {
        "id": "wj6t3o-GXriW"
      },
      "source": [
        "#HCF (Highest Common Factor) / GCD (Greatest Common Divisor) Finder\n",
        "i = 0\n",
        "a = int(input('Larger Number 1 '))\n",
        "b = int(input('Smaller Number 2 '))\n",
        "while (i==0):\n",
        "  c = a%b\n",
        "  a = b\n",
        "  b = c\n",
        "  if c==0:\n",
        "    print(a)\n",
        "    break"
      ],
      "execution_count": null,
      "outputs": []
    },
    {
      "cell_type": "code",
      "metadata": {
        "id": "gooaqek_Xt_q"
      },
      "source": [
        "l = [0,0,0,0,0,0,0]\n",
        "i = 0\n",
        "count = 0\n",
        "while (i<len(l)):\n",
        "  if l[i]!=0:\n",
        "    l.pop(i)\n",
        "    l.insert(i,0)\n",
        "    count = 1\n",
        "    break\n",
        "  else:\n",
        "    i = i+1\n",
        "if count==0:\n",
        "  print('all entries are zero')\n",
        "print(l)"
      ],
      "execution_count": null,
      "outputs": []
    },
    {
      "cell_type": "code",
      "metadata": {
        "id": "P3qelv5vXx0x"
      },
      "source": [
        "i = 0\n",
        "n = int(input('Number: '))\n",
        "while n>0:\n",
        "  n //= 10\n",
        "  i +=1\n",
        "print(i)\n"
      ],
      "execution_count": null,
      "outputs": []
    },
    {
      "cell_type": "code",
      "metadata": {
        "id": "WBjPVjAmXy75"
      },
      "source": [
        "n = int(input('num: '))\n",
        "fac = 1\n",
        "while n>=1:\n",
        "  fac *=n\n",
        "  n-=1\n",
        "print(fac)"
      ],
      "execution_count": null,
      "outputs": []
    },
    {
      "cell_type": "code",
      "metadata": {
        "id": "XdNUljRXX0b5"
      },
      "source": [
        "i = 0\n",
        "while i<200:\n",
        "  i+=1\n",
        "  a = i%5\n",
        "  b = i%6\n",
        "  c = i%7\n",
        "  if a==2 and b==3 and c==2:\n",
        "    print(i)\n",
        "    break"
      ],
      "execution_count": null,
      "outputs": []
    },
    {
      "cell_type": "code",
      "metadata": {
        "id": "TEAZzdYNX1qB"
      },
      "source": [
        "n = int(input('Number: '))\n",
        "while n>0:\n",
        "  if n<10:\n",
        "    print('Cost is $', n*12)\n",
        "    break\n",
        "  elif n>10 and n<=99:\n",
        "    print('Cost is $', n*10)\n",
        "    break\n",
        "  else:\n",
        "    print('Cost is $', n*7)\n",
        "    break"
      ],
      "execution_count": null,
      "outputs": []
    },
    {
      "cell_type": "code",
      "metadata": {
        "id": "Z-tI_s7eX23i"
      },
      "source": [
        "n = int(input('Number: '))\n",
        "a = 1\n",
        "while a<=n:\n",
        "  if n%a==0:\n",
        "    print(a)\n",
        "  a+=1"
      ],
      "execution_count": null,
      "outputs": []
    },
    {
      "cell_type": "code",
      "metadata": {
        "id": "mbUnlIFHX3y6"
      },
      "source": [
        "n = int(input('Year: '))\n",
        "if n%4==0 :\n",
        "  if n%100==0:\n",
        "    if n%400==0:\n",
        "      print(n, 'is a leap year')\n",
        "    else:\n",
        "     print(n,'is not a leap year')\n",
        "  else:\n",
        "   print(n,'is a leap year')\n",
        "else:\n",
        "  print(n,'is not a leap year')"
      ],
      "execution_count": null,
      "outputs": []
    }
  ]
}